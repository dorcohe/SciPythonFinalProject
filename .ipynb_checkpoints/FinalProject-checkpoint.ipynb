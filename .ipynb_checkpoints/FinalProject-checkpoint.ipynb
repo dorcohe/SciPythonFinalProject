{
  "cells": [
    {
      "metadata": {
        "collapsed": true
      },
      "cell_type": "markdown",
      "source": "# Final Project: Prey Predator\n## Author: Dor Cohen\n## Instractor: Dr Yoav Ram"
    },
    {
      "metadata": {},
      "cell_type": "markdown",
      "source": "### **Background**\nInvensive - "
    },
    {
      "metadata": {},
      "cell_type": "markdown",
      "source": "The equations are: \n\n$\\frac{dx}{dt} = bx - (h_1y1+h_2y_2)x$\n\n$\\frac{dy1}{dt} = \\epsilon_1h_1xy_1 - d_1y_1$\n\n$\\frac{dy2}{dt} = \\epsilon_2h_2xy_2 -d_2y_2$\n\nWhere:\n\nx - prey \n\nb - birth rate of prey\n\n$y_1$ - native predator\n\n$h_1$ - native predator hunting rate\n\n$\\epsilon_1$ - native predator \"ingestion rate\"\n\n$d_1$ - the native predator death rate\n\n$y_2$ - invasive predator\n\n$h_2$ - invasive predator hunting rate\n\n$\\epsilon_2$ - invasive predator \"ingestion rate\"\n\n$d_2$ - the invasive predator death rate\n"
    },
    {
      "metadata": {},
      "cell_type": "markdown",
      "source": "For simplicity I'll assume that the invasive predator has only different hunting rate. The differnet huning rate gives the invasive predator evolutionary advantage  \n\nTherefore, $\\epsilon_1=\\epsilon_2=\\epsilon$ and $d_1=d_2=d$"
    },
    {
      "metadata": {
        "trusted": true
      },
      "cell_type": "code",
      "source": "",
      "execution_count": null,
      "outputs": []
    }
  ],
  "metadata": {
    "kernelspec": {
      "name": "python36",
      "display_name": "Python 3.6",
      "language": "python"
    },
    "language_info": {
      "mimetype": "text/x-python",
      "nbconvert_exporter": "python",
      "name": "python",
      "pygments_lexer": "ipython3",
      "version": "3.6.6",
      "file_extension": ".py",
      "codemirror_mode": {
        "version": 3,
        "name": "ipython"
      }
    }
  },
  "nbformat": 4,
  "nbformat_minor": 2
}